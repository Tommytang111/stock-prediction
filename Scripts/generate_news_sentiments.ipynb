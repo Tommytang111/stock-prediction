{
 "cells": [
  {
   "cell_type": "code",
   "execution_count": 1,
   "metadata": {},
   "outputs": [
    {
     "name": "stderr",
     "output_type": "stream",
     "text": [
      "2025-02-07 19:34:30.417331: E external/local_xla/xla/stream_executor/cuda/cuda_fft.cc:477] Unable to register cuFFT factory: Attempting to register factory for plugin cuFFT when one has already been registered\n",
      "WARNING: All log messages before absl::InitializeLog() is called are written to STDERR\n",
      "E0000 00:00:1738974870.426710    3714 cuda_dnn.cc:8310] Unable to register cuDNN factory: Attempting to register factory for plugin cuDNN when one has already been registered\n",
      "E0000 00:00:1738974870.429659    3714 cuda_blas.cc:1418] Unable to register cuBLAS factory: Attempting to register factory for plugin cuBLAS when one has already been registered\n",
      "2025-02-07 19:34:30.439676: I tensorflow/core/platform/cpu_feature_guard.cc:210] This TensorFlow binary is optimized to use available CPU instructions in performance-critical operations.\n",
      "To enable the following instructions: AVX2 FMA, in other operations, rebuild TensorFlow with the appropriate compiler flags.\n"
     ]
    }
   ],
   "source": [
    "import kagglehub\n",
    "import pandas as pd\n",
    "import tensorflow as tf\n",
    "from transformers import AutoTokenizer, TFAutoModelForSequenceClassification, pipeline\n",
    "\n",
    "# Download latest version\n",
    "#path = kagglehub.dataset_download(\"miguelaenlle/massive-stock-news-analysis-db-for-nlpbacktests\")"
   ]
  },
  {
   "cell_type": "code",
   "execution_count": null,
   "metadata": {},
   "outputs": [
    {
     "data": {
      "text/plain": [
       "0"
      ]
     },
     "execution_count": 60,
     "metadata": {},
     "output_type": "execute_result"
    }
   ],
   "source": [
    "#Check how many NVDA articles there are in a specific dataset.\n",
    "df = pd.read_csv(\"~/projects/NVDA_stock_prediction/Data/NewsArticles/raw_partner_headlines.csv\")\n",
    "len(df[df['stock']=='NVDA'])"
   ]
  },
  {
   "cell_type": "code",
   "execution_count": 54,
   "metadata": {},
   "outputs": [],
   "source": [
    "def annotate_dataset_with_sentiment(dataset_path, model_name, output_path=None):\n",
    "    \"\"\"\n",
    "    Load a dataset with a 'headline' and 'date' column, runs sentiment analysis\n",
    "    using a pretrained BERT model on the headlines, and appends the sentiment to the dataset.\n",
    "\n",
    "    Args:\n",
    "        dataset_path (str): Path to the dataset file (e.g., CSV).\n",
    "        model_name (str): Pretrained model identifier or local model path.\n",
    "        output_path (str): Optional path to save the annotated dataset.\n",
    "\n",
    "    Returns:\n",
    "        pd.DataFrame: The dataset with a new 'sentiment' column.\n",
    "    \"\"\"\n",
    "    # Load the dataset\n",
    "    df = pd.read_csv(dataset_path)\n",
    "    df = df[df['stock'] == 'NVDA']\n",
    "    \n",
    "    # Load model and tokenizer\n",
    "    tokenizer = AutoTokenizer.from_pretrained(model_name)\n",
    "    model = TFAutoModelForSequenceClassification.from_pretrained(model_name)\n",
    "    \n",
    "    # Create a sentiment analysis pipeline\n",
    "    sentiment_pipeline = pipeline(\"sentiment-analysis\", model=model, tokenizer=tokenizer)\n",
    "    \n",
    "    #Change predictions to sentiments with SENTIMENT_MAP dictionary.\n",
    "    SENTIMENT_MAP = {'LABEL_0': 'negative', 'LABEL_1': 'neutral', 'LABEL_2': 'positive'}\n",
    "    \n",
    "    labels = []\n",
    "    count = 0\n",
    "    # Process each headline using the sentiment pipeline\n",
    "    for headline in df['headline']:\n",
    "        count += 1\n",
    "        print(count)\n",
    "        result = sentiment_pipeline(headline)\n",
    "        \n",
    "        #Result is a list with one dict in the format of [{'label': 'LABEL_1', 'score': 0.6225356459617615}]\n",
    "        prediction = result[0]['label']\n",
    "        labels.append(prediction)\n",
    "    \n",
    "    # Append sentiment to the DataFrame\n",
    "    df['labels'] = labels\n",
    "    sentiments= [SENTIMENT_MAP[label] for label in df['labels']]\n",
    "    df['sentiments'] = sentiments\n",
    "    \n",
    "    # Optionally, save the annotated DataFrame\n",
    "    if output_path:\n",
    "        df.to_csv(output_path, index=False)\n",
    "    \n",
    "    return df\n"
   ]
  },
  {
   "cell_type": "code",
   "execution_count": null,
   "metadata": {},
   "outputs": [
    {
     "name": "stderr",
     "output_type": "stream",
     "text": [
      "Some layers from the model checkpoint at /home/tommytang111/projects/NVDA_stock_prediction/Models/BERT_stock_news_sentiment were not used when initializing TFBertForSequenceClassification: ['dropout_37']\n",
      "- This IS expected if you are initializing TFBertForSequenceClassification from the checkpoint of a model trained on another task or with another architecture (e.g. initializing a BertForSequenceClassification model from a BertForPreTraining model).\n",
      "- This IS NOT expected if you are initializing TFBertForSequenceClassification from the checkpoint of a model that you expect to be exactly identical (initializing a BertForSequenceClassification model from a BertForSequenceClassification model).\n",
      "All the layers of TFBertForSequenceClassification were initialized from the model checkpoint at /home/tommytang111/projects/NVDA_stock_prediction/Models/BERT_stock_news_sentiment.\n",
      "If your task is similar to the task the model of the checkpoint was trained on, you can already use TFBertForSequenceClassification for predictions without further training.\n",
      "Device set to use 0\n"
     ]
    }
   ],
   "source": [
    "annotated_df = annotate_dataset_with_sentiment(\"~/projects/NVDA_stock_prediction/Data/NewsArticles/raw_analyst_ratings.csv\", \n",
    "                                               \"/home/tommytang111/projects/NVDA_stock_prediction/Models/BERT_stock_news_sentiment\", '/home/tommytang111/projects/NVDA_stock_prediction/Data/Outputs/raw_analyst_ratings_sentiment.csv')\n"
   ]
  }
 ],
 "metadata": {
  "kernelspec": {
   "display_name": "tf_gpu_env",
   "language": "python",
   "name": "python3"
  },
  "language_info": {
   "codemirror_mode": {
    "name": "ipython",
    "version": 3
   },
   "file_extension": ".py",
   "mimetype": "text/x-python",
   "name": "python",
   "nbconvert_exporter": "python",
   "pygments_lexer": "ipython3",
   "version": "3.12.3"
  }
 },
 "nbformat": 4,
 "nbformat_minor": 2
}
